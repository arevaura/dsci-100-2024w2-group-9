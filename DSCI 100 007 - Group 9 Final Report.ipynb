{
 "cells": [
  {
   "cell_type": "markdown",
   "id": "076c5218-ea87-4a13-90d2-8b47e4ccdfda",
   "metadata": {},
   "source": [
    "# [Project Title]   \n",
    "## DSCI 100 007 - Group 9 Final Report  \n",
    "`Members:` Alana Duan, Eva Jiang, Lucia Song, and Leo Wang  \n",
    "`Date:` April 5th, 2025"
   ]
  },
  {
   "cell_type": "markdown",
   "id": "c5e34732-cdf9-4776-a21c-6a122ecdc194",
   "metadata": {},
   "source": [
    "# Introduction"
   ]
  },
  {
   "cell_type": "markdown",
   "id": "db5696d3-13fb-43db-a2a7-1f3ecd6ea836",
   "metadata": {},
   "source": [
    "* provide some relevant background information on the topic so that someone unfamiliar with it will be prepared to understand the rest of your report\n",
    "* clearly state the question you tried to answer with your project\n",
    "* identify and fully describe the dataset that was used to answer the question"
   ]
  },
  {
   "cell_type": "code",
   "execution_count": 1,
   "id": "3db03f62-517b-4da8-b3d1-88a427e97b85",
   "metadata": {},
   "outputs": [
    {
     "name": "stderr",
     "output_type": "stream",
     "text": [
      "── \u001b[1mAttaching core tidyverse packages\u001b[22m ──────────────────────── tidyverse 2.0.0 ──\n",
      "\u001b[32m✔\u001b[39m \u001b[34mdplyr    \u001b[39m 1.1.4     \u001b[32m✔\u001b[39m \u001b[34mreadr    \u001b[39m 2.1.5\n",
      "\u001b[32m✔\u001b[39m \u001b[34mforcats  \u001b[39m 1.0.0     \u001b[32m✔\u001b[39m \u001b[34mstringr  \u001b[39m 1.5.1\n",
      "\u001b[32m✔\u001b[39m \u001b[34mggplot2  \u001b[39m 3.5.1     \u001b[32m✔\u001b[39m \u001b[34mtibble   \u001b[39m 3.2.1\n",
      "\u001b[32m✔\u001b[39m \u001b[34mlubridate\u001b[39m 1.9.3     \u001b[32m✔\u001b[39m \u001b[34mtidyr    \u001b[39m 1.3.1\n",
      "\u001b[32m✔\u001b[39m \u001b[34mpurrr    \u001b[39m 1.0.2     \n",
      "── \u001b[1mConflicts\u001b[22m ────────────────────────────────────────── tidyverse_conflicts() ──\n",
      "\u001b[31m✖\u001b[39m \u001b[34mdplyr\u001b[39m::\u001b[32mfilter()\u001b[39m masks \u001b[34mstats\u001b[39m::filter()\n",
      "\u001b[31m✖\u001b[39m \u001b[34mdplyr\u001b[39m::\u001b[32mlag()\u001b[39m    masks \u001b[34mstats\u001b[39m::lag()\n",
      "\u001b[36mℹ\u001b[39m Use the conflicted package (\u001b[3m\u001b[34m<http://conflicted.r-lib.org/>\u001b[39m\u001b[23m) to force all conflicts to become errors\n",
      "\n",
      "Attaching package: ‘janitor’\n",
      "\n",
      "\n",
      "The following objects are masked from ‘package:stats’:\n",
      "\n",
      "    chisq.test, fisher.test\n",
      "\n",
      "\n",
      "\n",
      "Attaching package: ‘cowplot’\n",
      "\n",
      "\n",
      "The following object is masked from ‘package:lubridate’:\n",
      "\n",
      "    stamp\n",
      "\n",
      "\n"
     ]
    }
   ],
   "source": [
    "# LOAD PACKAGES\n",
    "library(tidyverse)\n",
    "library(janitor) # for clean_names\n",
    "library(repr)\n",
    "library(infer)\n",
    "library(cowplot)\n",
    "options(repr.matrix.max.rows = 6,\n",
    "        repr.plot.width = 10,\n",
    "        repr.plot.height = 8)"
   ]
  },
  {
   "cell_type": "markdown",
   "id": "30ba047f-9ef0-4abf-8b2c-2d8cee05d02c",
   "metadata": {},
   "source": [
    "# Methods & Results"
   ]
  },
  {
   "cell_type": "markdown",
   "id": "91621814-02e1-4c69-88f2-a2e5896bf66f",
   "metadata": {},
   "source": [
    "* describe the methods you used to perform your analysis from beginning to end that narrates the analysis code.\n",
    "* your report should include code which:\n",
    "    * loads data\n",
    "    * wrangles and cleans the data to the format necessary for the planned analysis\n",
    "    * performs a summary of the data set that is relevant for exploratory data analysis related to the planned analysis \n",
    "    * creates a visualization of the dataset that is relevant for exploratory data analysis related to the planned analysis\n",
    "    * performs the data analysis\n",
    "    * creates a visualization of the analysis \n",
    "    * *note: all figures should have a figure number and a legend*"
   ]
  },
  {
   "cell_type": "markdown",
   "id": "a6eaeb11-9660-4f77-8236-7cb87cb07b6f",
   "metadata": {},
   "source": [
    "# Discussion"
   ]
  },
  {
   "cell_type": "markdown",
   "id": "490fd60e-8c18-44ac-968e-7c623f3e9bcd",
   "metadata": {},
   "source": [
    "* summarize what you found\n",
    "* discuss whether this is what you expected to find?\n",
    "* discuss what impact could such findings have?\n",
    "* discuss what future questions could this lead to?"
   ]
  },
  {
   "cell_type": "markdown",
   "id": "991f6d6c-6d0d-48d7-bb71-8d890d857185",
   "metadata": {},
   "source": [
    "# References"
   ]
  },
  {
   "cell_type": "markdown",
   "id": "1fabb9ca-68c9-44f7-9c8e-62b3d891830e",
   "metadata": {},
   "source": [
    "* You may include references if necessary, as long as they all have a consistent citation style."
   ]
  }
 ],
 "metadata": {
  "kernelspec": {
   "display_name": "R",
   "language": "R",
   "name": "ir"
  },
  "language_info": {
   "codemirror_mode": "r",
   "file_extension": ".r",
   "mimetype": "text/x-r-source",
   "name": "R",
   "pygments_lexer": "r",
   "version": "4.3.3"
  }
 },
 "nbformat": 4,
 "nbformat_minor": 5
}
